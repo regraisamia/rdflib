{
 "cells": [
  {
   "cell_type": "code",
   "execution_count": null,
   "id": "68b06f47",
   "metadata": {},
   "outputs": [],
   "source": [
    "from rdflib import Graph\n",
    "#Crée une nouvelle instance de graphe RDF vide.\n",
    "g = Graph()"
   ]
  },
  {
   "cell_type": "code",
   "execution_count": null,
   "id": "a4610010",
   "metadata": {},
   "outputs": [],
   "source": [
    "from rdflib import URIRef \n",
    "uri = URIRef(\"http://example.org/Marie\")"
   ]
  },
  {
   "cell_type": "code",
   "execution_count": null,
   "id": "5979ac8b",
   "metadata": {},
   "outputs": [],
   "source": [
    "from rdflib import Literal\n",
    "age = Literal(25)"
   ]
  },
  {
   "cell_type": "code",
   "execution_count": null,
   "id": "b8ba242a",
   "metadata": {},
   "outputs": [],
   "source": [
    "from rdflib import BNode\n",
    "anounymous_person = BNode()"
   ]
  },
  {
   "cell_type": "code",
   "execution_count": 2,
   "id": "6e860df5",
   "metadata": {},
   "outputs": [
    {
     "name": "stdout",
     "output_type": "stream",
     "text": [
      "http://example.org/Marie\n"
     ]
    }
   ],
   "source": [
    "from rdflib import Namespace\n",
    "example = Namespace(\"http://example.org/\")\n",
    "print(example.Marie)"
   ]
  },
  {
   "cell_type": "code",
   "execution_count": null,
   "id": "958916c6",
   "metadata": {},
   "outputs": [],
   "source": [
    "#Installation \n",
    "! pip install rdflib"
   ]
  },
  {
   "cell_type": "code",
   "execution_count": 7,
   "id": "3c085f2e",
   "metadata": {},
   "outputs": [
    {
     "data": {
      "text/plain": [
       "<Graph identifier=N3c4b426513a74c8e90d94a3fc07e3543 (<class 'rdflib.graph.Graph'>)>"
      ]
     },
     "execution_count": 7,
     "metadata": {},
     "output_type": "execute_result"
    }
   ],
   "source": [
    "from rdflib import Graph, Namespace, Literal\n",
    "\n",
    "# Créer un graphe vide\n",
    "g = Graph()\n",
    "\n",
    "# Définir un namespace personnalisé\n",
    "EX = Namespace(\"http://example.org/\")\n",
    "\n",
    "# Ajouter des triplets\n",
    "g.add((EX.Alice, EX.knows, EX.Bob))  # Alice connaît Bob\n",
    "g.add((EX.Alice, EX.age, Literal(30)))  # L'âge d'Alice est 30\n",
    "g.add((EX.Bob, EX.age, Literal(25)))  # L'âge de Bob est 25"
   ]
  },
  {
   "cell_type": "code",
   "execution_count": 8,
   "id": "2d294d8c",
   "metadata": {},
   "outputs": [
    {
     "name": "stdout",
     "output_type": "stream",
     "text": [
      "Résultats de la requête SPARQL :\n",
      "http://example.org/Alice a 30 ans.\n",
      "http://example.org/Bob a 25 ans.\n"
     ]
    }
   ],
   "source": [
    "# Exécuter une requête SPARQL pour récupérer les personnes et leurs âges\n",
    "query = \"\"\"\n",
    "    SELECT ?person ?age\n",
    "    WHERE {\n",
    "        ?person <http://example.org/age> ?age .\n",
    "    }\n",
    "\"\"\"\n",
    "\n",
    "results = g.query(query)\n",
    "\n",
    "# Afficher les résultats\n",
    "print(\"Résultats de la requête SPARQL :\")\n",
    "for row in results:\n",
    "    print(f\"{row.person} a {row.age} ans.\")"
   ]
  },
  {
   "cell_type": "code",
   "execution_count": null,
   "id": "4bc6d62d",
   "metadata": {},
   "outputs": [],
   "source": [
    "from rdflib import Graph, URIRef, Namespace\n",
    "\n",
    "# Créer un graphe RDF\n",
    "g = Graph()\n",
    "EX = Namespace(\"http://example.org/\")\n",
    "g.add((EX.Alice, EX.knows, EX.Bob))\n",
    "\n",
    "# Supprimer tous les triplets du graphe\n",
    "g.remove((None, None, None))  # Wildcard pour supprimer tout\n"
   ]
  },
  {
   "cell_type": "code",
   "execution_count": null,
   "id": "5623a217",
   "metadata": {},
   "outputs": [],
   "source": [
    "from rdflib import Graph, URIRef, Literal, Namespace\n",
    "\n",
    "# Créer un graphe RDF\n",
    "g = Graph()\n",
    "EX = Namespace(\"http://example.org/\")\n",
    "g.add((EX.Alice, EX.age, Literal(30)))\n",
    "\n",
    "# Modifier un triplet existant\n",
    "g.remove((EX.Alice, EX.age, None))  # Supprimer l'ancien âge\n",
    "g.add((EX.Alice, EX.age, Literal(35)))  # Ajouter le nouvel âge\n",
    "\n",
    "# Afficher le graphe modifié\n",
    "print(\"Graphe modifié :\")\n",
    "for s, p, o in g:\n",
    "    print(s, p, o)"
   ]
  },
  {
   "cell_type": "code",
   "execution_count": 5,
   "id": "c45334e7",
   "metadata": {},
   "outputs": [
    {
     "name": "stdout",
     "output_type": "stream",
     "text": [
      "Résultats de la requête SPARQL :\n",
      "Personne: http://example.org/Alice, Âge: 30\n",
      "Personne: http://example.org/Bob, Âge: 25\n"
     ]
    }
   ],
   "source": [
    "from rdflib import Graph, Namespace\n",
    "\n",
    "# Créer un graphe RDF\n",
    "g = Graph()\n",
    "EX = Namespace(\"http://example.org/\")\n",
    "g.add((EX.Alice, EX.knows, EX.Bob))\n",
    "g.add((EX.Alice, EX.age, Literal(30)))\n",
    "g.add((EX.Bob, EX.age, Literal(25)))\n",
    "\n",
    "# Exécuter une requête SPARQL\n",
    "query = \"\"\"\n",
    "    SELECT ?person ?age\n",
    "    WHERE {\n",
    "        ?person <http://example.org/age> ?age .\n",
    "    }\n",
    "\"\"\"\n",
    "results = g.query(query)\n",
    "\n",
    "# Afficher les résultats\n",
    "print(\"Résultats de la requête SPARQL :\")\n",
    "for row in results:\n",
    "    print(f\"Personne: {row.person}, Âge: {row.age}\")"
   ]
  },
  {
   "cell_type": "code",
   "execution_count": null,
   "id": "a95aa0bd",
   "metadata": {},
   "outputs": [],
   "source": [
    "query_with_filter = \"\"\"\n",
    "    SELECT ?person ?age\n",
    "    WHERE {\n",
    "        ?person <http://example.org/age> ?age .\n",
    "        FILTER (?age > 28)\n",
    "    }\n",
    "\"\"\"\n",
    "filtered_results = g.query(query_with_filter)\n",
    "\n",
    "# Afficher les résultats filtrés\n",
    "print(\"Résultats filtrés :\")\n",
    "for row in filtered_results:\n",
    "    print(f\"Personne: {row.person}, Âge: {row.age}\")"
   ]
  },
  {
   "cell_type": "code",
   "execution_count": null,
   "id": "58c6d5b2",
   "metadata": {},
   "outputs": [],
   "source": [
    "from rdflib import Graph, Namespace\n",
    "\n",
    "# Créer un graphe RDF\n",
    "g = Graph()\n",
    "EX = Namespace(\"http://example.org/\")\n",
    "g.add((EX.Alice, EX.knows, EX.Bob))\n",
    "g.add((EX.Alice, EX.age, Literal(30)))\n",
    "g.add((EX.Bob, EX.age, Literal(25)))\n",
    "\n",
    "# Itérer sur les sujets ayant un âge supérieur à 28\n",
    "for s, p, o in g.triples((None, EX.age, None)):\n",
    "    if isinstance(o, Literal) and int(o) > 28:\n",
    "        print(f\"{s} a plus de 28 ans.\")"
   ]
  },
  {
   "cell_type": "code",
   "execution_count": null,
   "id": "5cdc7c51",
   "metadata": {},
   "outputs": [],
   "source": [
    "# Itérer sur les personnes qui connaissent quelqu'un\n",
    "for s, p, o in g.triples((None, EX.knows, None)):\n",
    "    print(f\"{s} connaît {o}.\")"
   ]
  },
  {
   "cell_type": "markdown",
   "id": "afeb0d47",
   "metadata": {},
   "source": [
    "Résumé des fonctionnalités\n",
    "Création : Utilisez Graph() pour créer un graphe et ajoutez des triplets avec add().\n",
    "Lecture : Utilisez parse() pour charger un fichier RDF.\n",
    "Suppression : Utilisez remove() pour supprimer des triplets ou tout le graphe.\n",
    "Modification : Supprimez et ajoutez des triplets pour modifier le graphe.\n",
    "Requêtes SPARQL : Utilisez query() pour exécuter des requêtes SPARQL.\n",
    "Filtres et itérations : Utilisez triples() pour itérer sur les triplets et appliquez des filtres logiques.\n"
   ]
  },
  {
   "cell_type": "code",
   "execution_count": 9,
   "id": "a33cf6a6",
   "metadata": {},
   "outputs": [
    {
     "data": {
      "text/plain": [
       "<Graph identifier=N3c4b426513a74c8e90d94a3fc07e3543 (<class 'rdflib.graph.Graph'>)>"
      ]
     },
     "execution_count": 9,
     "metadata": {},
     "output_type": "execute_result"
    }
   ],
   "source": [
    "g.remove((EX.Alice, EX.age, None))  # Supprimer l'âge d'Alice\n",
    "g.add((EX.Alice, EX.age, Literal(35)))  # Ajouter un nouvel âge"
   ]
  },
  {
   "cell_type": "code",
   "execution_count": null,
   "id": "5d9813bb",
   "metadata": {},
   "outputs": [],
   "source": [
    "g.serialize(destination=\"output.ttl\", format=\"turtle\")"
   ]
  },
  {
   "cell_type": "code",
   "execution_count": null,
   "id": "600aff6b",
   "metadata": {},
   "outputs": [],
   "source": []
  },
  {
   "cell_type": "code",
   "execution_count": null,
   "id": "642b6ae1",
   "metadata": {},
   "outputs": [],
   "source": []
  },
  {
   "cell_type": "code",
   "execution_count": null,
   "id": "6ab1741d",
   "metadata": {},
   "outputs": [],
   "source": [
    "from rdflib import Graph\n",
    "\n",
    "# Créer un graphe RDF vide\n",
    "g = Graph()"
   ]
  },
  {
   "cell_type": "code",
   "execution_count": 10,
   "id": "93b9c0bf",
   "metadata": {},
   "outputs": [
    {
     "name": "stdout",
     "output_type": "stream",
     "text": [
      "Triplets dans le graphe :\n",
      "http://example.org/Alice -- http://example.org/age --> 30\n",
      "http://example.org/Bob -- http://example.org/age --> 25\n",
      "http://example.org/Alice -- http://example.org/knows --> http://example.org/Bob\n"
     ]
    }
   ],
   "source": [
    "from rdflib import Graph, Namespace, Literal\n",
    "\n",
    "# Créer un graphe RDF\n",
    "g = Graph()\n",
    "\n",
    "# Définir un namespace personnalisé\n",
    "EX = Namespace(\"http://example.org/\")\n",
    "\n",
    "# Ajouter des triplets\n",
    "g.add((EX.Alice, EX.knows, EX.Bob))  # Alice connaît Bob\n",
    "g.add((EX.Alice, EX.age, Literal(30)))  # L'âge d'Alice est 30\n",
    "g.add((EX.Bob, EX.age, Literal(25)))  # L'âge de Bob est 25\n",
    "\n",
    "# Afficher tous les triplets du graphe\n",
    "print(\"Triplets dans le graphe :\")\n",
    "for s, p, o in g:\n",
    "    print(f\"{s} -- {p} --> {o}\")"
   ]
  },
  {
   "cell_type": "code",
   "execution_count": null,
   "id": "0afd19bd",
   "metadata": {},
   "outputs": [],
   "source": [
    "from rdflib import Graph\n",
    "\n",
    "# Créer un graphe RDF\n",
    "g = Graph()\n",
    "\n",
    "# Charger un fichier RDF (par exemple, au format Turtle)\n",
    "file_path = \"data.ttl\"  # le chemin du fichier\n",
    "g.parse(file_path, format=\"turtle\")\n"
   ]
  },
  {
   "cell_type": "code",
   "execution_count": 11,
   "id": "be392c96",
   "metadata": {},
   "outputs": [
    {
     "name": "stdout",
     "output_type": "stream",
     "text": [
      "Graphe après modification :\n",
      "http://example.org/Alice -- http://example.org/age --> 35\n"
     ]
    }
   ],
   "source": [
    "from rdflib import Graph, Namespace, Literal\n",
    "\n",
    "# Créer un graphe RDF\n",
    "g = Graph()\n",
    "EX = Namespace(\"http://example.org/\")\n",
    "g.add((EX.Alice, EX.age, Literal(30)))\n",
    "\n",
    "# Modifier l'âge d'Alice\n",
    "g.remove((EX.Alice, EX.age, None))  # Supprimer l'ancien âge\n",
    "g.add((EX.Alice, EX.age, Literal(35)))  # Ajouter le nouvel âge\n",
    "\n",
    "print(\"Graphe après modification :\")\n",
    "for s, p, o in g:\n",
    "    print(f\"{s} -- {p} --> {o}\")"
   ]
  },
  {
   "cell_type": "code",
   "execution_count": null,
   "id": "c268c994",
   "metadata": {},
   "outputs": [
    {
     "name": "stdout",
     "output_type": "stream",
     "text": [
      "Graphe après suppression :\n"
     ]
    }
   ],
   "source": [
    "from rdflib import Graph, Namespace\n",
    "\n",
    "# Créer un graphe RDF\n",
    "g = Graph()\n",
    "EX = Namespace(\"http://example.org/\")\n",
    "g.add((EX.Alice, EX.knows, EX.Bob))\n",
    "\n",
    "# Supprimer un triplet spécifique\n",
    "g.remove((EX.Alice, EX.knows, EX.Bob))\n"
   ]
  },
  {
   "cell_type": "code",
   "execution_count": 17,
   "id": "b5e98e12",
   "metadata": {},
   "outputs": [
    {
     "name": "stdout",
     "output_type": "stream",
     "text": [
      "Résultats de la requête SPARQL :\n",
      "http://example.org/Alice a 30 ans.\n",
      "http://example.org/Bob a 25 ans.\n"
     ]
    }
   ],
   "source": [
    "from rdflib import Graph, Namespace, Literal\n",
    "g = Graph()\n",
    "EX = Namespace(\"http://example.org/\")\n",
    "g.add((EX.Alice, EX.age, Literal(30)))\n",
    "g.add((EX.Bob, EX.age, Literal(25)))\n",
    "\n",
    "# Interroger le graphe avec SPARQL\n",
    "query = \"\"\"\n",
    "    SELECT ?person ?age\n",
    "    WHERE {\n",
    "        ?person <http://example.org/age> ?age .\n",
    "    }\n",
    "\"\"\"\n",
    "results = g.query(query)\n",
    "# Afficher les résultats\n",
    "print(\"Résultats de la requête SPARQL :\")\n",
    "for row in results:\n",
    "    print(f\"{row.person} a {row.age} ans.\")"
   ]
  },
  {
   "cell_type": "code",
   "execution_count": null,
   "id": "2c6addb3",
   "metadata": {},
   "outputs": [
    {
     "name": "stdout",
     "output_type": "stream",
     "text": [
      "Graphe sauvegardé dans 'output.ttl'.\n"
     ]
    }
   ],
   "source": [
    "from rdflib import Graph, Namespace, Literal\n",
    "\n",
    "# Créer un graphe RDF\n",
    "g = Graph()\n",
    "EX = Namespace(\"http://example.org/\")\n",
    "g.add((EX.Alice, EX.age, Literal(30)))\n",
    "\n",
    "# Sauvegarder le graphe dans un fichier (par exemple, en Turtle)\n",
    "output_file = \"output.ttl\"\n",
    "g.serialize(destination=output_file, format=\"turtle\")\n",
    "\n"
   ]
  },
  {
   "cell_type": "code",
   "execution_count": 15,
   "id": "62be6892",
   "metadata": {},
   "outputs": [
    {
     "name": "stdout",
     "output_type": "stream",
     "text": [
      "Triplets filtrés (prédicat = age) :\n",
      "http://example.org/Alice -- http://example.org/age --> 30\n",
      "http://example.org/Bob -- http://example.org/age --> 25\n"
     ]
    }
   ],
   "source": [
    "from rdflib import Graph, Namespace\n",
    "\n",
    "# Créer un graphe RDF\n",
    "g = Graph()\n",
    "EX = Namespace(\"http://example.org/\")\n",
    "g.add((EX.Alice, EX.knows, EX.Bob))\n",
    "g.add((EX.Alice, EX.age, Literal(30)))\n",
    "g.add((EX.Bob, EX.age, Literal(25)))\n",
    "\n",
    "# Filtrer les triplets où le prédicat est \"age\"\n",
    "print(\"Triplets filtrés (prédicat = age) :\")\n",
    "for s, p, o in g.triples((None, EX.age, None)):\n",
    "    print(f\"{s} -- {p} --> {o}\")"
   ]
  }
 ],
 "metadata": {
  "kernelspec": {
   "display_name": "Python 3",
   "language": "python",
   "name": "python3"
  },
  "language_info": {
   "codemirror_mode": {
    "name": "ipython",
    "version": 3
   },
   "file_extension": ".py",
   "mimetype": "text/x-python",
   "name": "python",
   "nbconvert_exporter": "python",
   "pygments_lexer": "ipython3",
   "version": "3.10.0"
  }
 },
 "nbformat": 4,
 "nbformat_minor": 5
}
